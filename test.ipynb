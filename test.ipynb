{
 "cells": [
  {
   "cell_type": "code",
   "execution_count": 2,
   "metadata": {},
   "outputs": [],
   "source": [
    "import pymysql\n",
    "\n",
    "db_settings = {\n",
    "    \"host\": input('[?]Host: '),\n",
    "    \"port\": int(input('[?]Port: ')),\n",
    "    \"user\": input('[?]User: '),\n",
    "    \"password\": input('[?]Password: '),\n",
    "    \"database\": 'pinkbird',\n",
    "    \"charset\": \"utf8\",\n",
    "}\n",
    "\n",
    "conn = pymysql.connect(**db_settings)"
   ]
  },
  {
   "cell_type": "code",
   "execution_count": 3,
   "metadata": {},
   "outputs": [],
   "source": [
    "from package.sql_command import *\n",
    "import os"
   ]
  },
  {
   "cell_type": "code",
   "execution_count": 11,
   "metadata": {},
   "outputs": [
    {
     "name": "stdout",
     "output_type": "stream",
     "text": [
      "dict_keys(['1', '2', '3', '4', '5', '6', '7', '8', '9'])\n",
      "dict_values(['姓名', '身分證字號', '生日', '電話', '餐食', '特殊需求', '暱稱', '旅遊天數', '身心障礙'])\n"
     ]
    }
   ],
   "source": [
    "# <----- Get Column Name start ----->\n",
    "corsor = conn.cursor()\n",
    "corsor.execute(getColumeNames(tableName='會員資料'))\n",
    "columeNames = [colName[0] for colName in corsor.fetchall()]\n",
    "global column_Dict\n",
    "column_Dict = dict(zip(\n",
    "    [str(int(idx[0]) + 1) for idx in enumerate(columeNames)],\n",
    "    [key for key in columeNames]\n",
    "))\n",
    "    # column_Dict will be like below\n",
    "    # column_Dict = {\n",
    "    #     '1': '姓名', \n",
    "    #     '2': '身分證字號', \n",
    "    #     '3': '生日', \n",
    "    #     '4': '電話', \n",
    "    #     '5': '餐食', \n",
    "    #     '6': '特殊需求', \n",
    "    #     '7': '暱稱', \n",
    "    #     '8': '旅遊天數', \n",
    "    #     '9': '身心障礙'\n",
    "    # }\n",
    "# <----- Get Column Name End ----->\n",
    "print(column_Dict.keys())\n",
    "print(column_Dict.values())"
   ]
  },
  {
   "cell_type": "code",
   "execution_count": 54,
   "metadata": {},
   "outputs": [
    {
     "name": "stdout",
     "output_type": "stream",
     "text": [
      "[>]正在執行重複會員資料檢查......\n",
      "[!]會員資料庫中有重複的會員資料，請按下「Enter」來處理重複資料。\n",
      "[*]類別   |      編號:1     |      編號:2     |\n",
      "[*]姓名   |132132\n",
      "\n",
      "[*]身分證字號|132132\n",
      "\n",
      "[*]生日   |132132\n",
      "\n",
      "[*]電話   |132132\n",
      "\n",
      "[*]餐食   |132132\n",
      "\n",
      "[*]特殊需求 |132132\n",
      "\n",
      "[*]暱稱   |132132\n",
      "\n",
      "[*]旅遊天數 |132132\n",
      "\n",
      "[*]身心障礙 |132132\n",
      "\n"
     ]
    }
   ],
   "source": [
    "# def dataRepeatCheck():\n",
    "print(\"[>]\" + '正在執行重複會員資料檢查......')\n",
    "repeatIDs = [ID[0] for ID in sql_operator(\n",
    "    connect=conn,\n",
    "    instruction=\"select `身分證字號` from `會員資料` group by `身分證字號` having count(*) > 1\",\n",
    "    is_fetchAll=True,\n",
    "    is_commit=False\n",
    ")]\n",
    "\n",
    "if len(repeatIDs) == 0:\n",
    "    print('[!]資料庫無重複之會員資料')\n",
    "    # return\n",
    "else:\n",
    "    # input('[!]會員資料庫中有重複的會員資料，請按下「Enter」來處理重複資料。')\n",
    "    print('[!]會員資料庫中有重複的會員資料，請按下「Enter」來處理重複資料。')\n",
    "\n",
    "repeatDatas = dict()\n",
    "for ID in repeatIDs:\n",
    "    temp = sql_operator(\n",
    "        connect=conn,\n",
    "        instruction=searchCommand(\n",
    "            listFrom='會員資料',\n",
    "            key='身分證字號',\n",
    "            searchBy=ID\n",
    "        ),\n",
    "        is_fetchAll=True,\n",
    "        is_commit=False\n",
    "    )\n",
    "    repeatDatas[ID] = temp\n",
    "\n",
    "col_length = 15\n",
    "col_length_title = 5\n",
    "col_space = ' '\n",
    "for row in range(len(column_Dict)+1):\n",
    "    # [*]類別一一一|一一一編號:1一一一|一一一編號:2一一一| <- example\n",
    "    if row == 0:\n",
    "        print('[*]', end='')\n",
    "        print('類別'.ljust(col_length_title, col_space), end='|')\n",
    "        for idx in range(len(repeatIDs)):\n",
    "            print(f'編號:{idx+1}'.center(col_length, col_space), end='')\n",
    "            if idx != len(repeatIDs):\n",
    "                print('|', end='')\n",
    "        else:\n",
    "            print('')\n",
    "        continue\n",
    "    # --------------------------------------------\n",
    "    print('[*]' + f'{column_Dict[str(row)]}'.ljust(col_length_title, col_space), end='|')\n",
    "    for idx in range(len(repeatIDs)):\n",
    "        print(132, end='')\n",
    "    else:\n",
    "        print('')\n",
    "    print('')\n",
    "    \n",
    "# dataRepeatCheck()"
   ]
  },
  {
   "cell_type": "code",
   "execution_count": 50,
   "metadata": {},
   "outputs": [
    {
     "name": "stdout",
     "output_type": "stream",
     "text": [
      "{'L125376327': (('黃新荃', 'L125376327', '88.01.26', '0936-687092', '素食', '無', 'Cyuan.', 40, '否'), ('黃新荃2', 'L125376327', '', '123', '', '', '', 0, '')), 'S121264528': (('黃成志', 'S121264528', '59.8.19', '0932-621621', '葷食', '無', '粉鳥旅行社-粉鳥老爹', 38, '否'), ('黃成志2', 'S121264528', '', '', '', '', '', 0, ''))}\n"
     ]
    }
   ],
   "source": [
    "print(repeatDatas)"
   ]
  },
  {
   "cell_type": "code",
   "execution_count": 63,
   "metadata": {},
   "outputs": [
    {
     "name": "stdout",
     "output_type": "stream",
     "text": [
      "[*]姓名     |\n",
      "[*]身分證字號|\n",
      "[*]生日     |\n",
      "[*]電話     |\n",
      "[*]餐食     |\n",
      "[*]特殊需求  |\n",
      "[*]暱稱     |\n",
      "[*]旅遊天數  |\n",
      "[*]身心障礙  |\n"
     ]
    }
   ],
   "source": [
    "a = ['姓名     ', '身分證字號', '生日     ', '電話     ', '餐食     ', '特殊需求  ', '暱稱     ', '旅遊天數  ', '身心障礙  ']\n",
    "for x in a:\n",
    "    print('[*]' + x, end='|\\n')"
   ]
  }
 ],
 "metadata": {
  "interpreter": {
   "hash": "ac59ebe37160ed0dfa835113d9b8498d9f09ceb179beaac4002f036b9467c963"
  },
  "kernelspec": {
   "display_name": "Python 3.9.6 64-bit",
   "language": "python",
   "name": "python3"
  },
  "language_info": {
   "codemirror_mode": {
    "name": "ipython",
    "version": 3
   },
   "file_extension": ".py",
   "mimetype": "text/x-python",
   "name": "python",
   "nbconvert_exporter": "python",
   "pygments_lexer": "ipython3",
   "version": "3.9.6"
  },
  "orig_nbformat": 4
 },
 "nbformat": 4,
 "nbformat_minor": 2
}
